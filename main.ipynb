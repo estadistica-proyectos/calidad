{
 "cells": [
  {
   "cell_type": "markdown",
   "metadata": {},
   "source": [
    "# Actividad: Calidad."
   ]
  },
  {
   "cell_type": "markdown",
   "metadata": {},
   "source": [
    "## Importaciones."
   ]
  },
  {
   "cell_type": "markdown",
   "metadata": {},
   "source": [
    "En caso de no tener las siguientes librerias descargadas ejecutar el siguiente comando:"
   ]
  },
  {
   "cell_type": "code",
   "execution_count": 4,
   "metadata": {},
   "outputs": [
    {
     "name": "stdout",
     "output_type": "stream",
     "text": [
      "Requirement already satisfied: numpy in c:\\users\\mgonzgarc\\anaconda3\\lib\\site-packages (1.24.4)\n",
      "Requirement already satisfied: scipy in c:\\users\\mgonzgarc\\anaconda3\\lib\\site-packages (1.9.1)\n",
      "Requirement already satisfied: matplotlib in c:\\users\\mgonzgarc\\anaconda3\\lib\\site-packages (3.5.2)\n",
      "Requirement already satisfied: cycler>=0.10 in c:\\users\\mgonzgarc\\anaconda3\\lib\\site-packages (from matplotlib) (0.11.0)\n",
      "Requirement already satisfied: fonttools>=4.22.0 in c:\\users\\mgonzgarc\\anaconda3\\lib\\site-packages (from matplotlib) (4.25.0)\n",
      "Requirement already satisfied: kiwisolver>=1.0.1 in c:\\users\\mgonzgarc\\anaconda3\\lib\\site-packages (from matplotlib) (1.4.2)\n",
      "Requirement already satisfied: packaging>=20.0 in c:\\users\\mgonzgarc\\anaconda3\\lib\\site-packages (from matplotlib) (21.3)\n",
      "Requirement already satisfied: pillow>=6.2.0 in c:\\users\\mgonzgarc\\anaconda3\\lib\\site-packages (from matplotlib) (9.2.0)\n",
      "Requirement already satisfied: pyparsing>=2.2.1 in c:\\users\\mgonzgarc\\anaconda3\\lib\\site-packages (from matplotlib) (3.0.9)\n",
      "Requirement already satisfied: python-dateutil>=2.7 in c:\\users\\mgonzgarc\\anaconda3\\lib\\site-packages (from matplotlib) (2.8.2)\n",
      "Requirement already satisfied: six>=1.5 in c:\\users\\mgonzgarc\\anaconda3\\lib\\site-packages (from python-dateutil>=2.7->matplotlib) (1.16.0)\n"
     ]
    },
    {
     "name": "stderr",
     "output_type": "stream",
     "text": [
      "\n",
      "[notice] A new release of pip is available: 23.3.1 -> 23.3.2\n",
      "[notice] To update, run: C:\\Users\\mgonzgarc\\Anaconda3\\python.exe -m pip install --upgrade pip\n"
     ]
    }
   ],
   "source": [
    "!pip install numpy scipy matplotlib"
   ]
  },
  {
   "cell_type": "code",
   "execution_count": 5,
   "metadata": {},
   "outputs": [],
   "source": [
    "import csv\n",
    "import numpy as np\n",
    "from statistics import mode\n",
    "from scipy.stats import skew, kurtosis\n",
    "import matplotlib.pyplot as plt\n",
    "import math"
   ]
  },
  {
   "cell_type": "markdown",
   "metadata": {},
   "source": [
    "## Lectura de datos."
   ]
  },
  {
   "cell_type": "markdown",
   "metadata": {},
   "source": [
    "En la carpeta `data` se encuentra el csv de los datos separados por espacios del producto. En este caso, se tratan de las medidas de los grosores de unos discos. Para acceder a ellos, extraeremos esos datos y los almacenaremos en una variable mediante una lista."
   ]
  },
  {
   "cell_type": "code",
   "execution_count": 6,
   "metadata": {},
   "outputs": [],
   "source": [
    "numeros = []\n",
    "with open('data/data.csv', newline='') as archivo_csv:\n",
    "    lector_csv = csv.reader(archivo_csv, delimiter=' ')\n",
    "    for fila in lector_csv:\n",
    "        for elemento in fila:\n",
    "            numeros.append(float(elemento))"
   ]
  },
  {
   "cell_type": "code",
   "execution_count": 7,
   "metadata": {},
   "outputs": [
    {
     "name": "stdout",
     "output_type": "stream",
     "text": [
      "[1.15, 1.2, 1.17, 1.16, 1.16, 1.15, 1.17, 1.2, 1.16, 1.19, 1.17, 1.13, 1.15, 1.2, 1.18, 1.17, 1.16, 1.2, 1.17, 1.17, 1.2, 1.14, 1.19, 1.13, 1.19, 1.16, 1.18, 1.16, 1.17, 1.15, 1.21, 1.15, 1.2, 1.18, 1.17, 1.17, 1.13, 1.16, 1.16, 1.17, 1.2, 1.18, 1.15, 1.13, 1.2, 1.17, 1.19, 1.23, 1.2, 1.24, 1.17, 1.17, 1.17, 1.17, 1.18, 1.24, 1.16, 1.18, 1.16, 1.22, 1.23, 1.22, 1.19, 1.13, 1.15, 1.15, 1.22, 1.19, 1.18, 1.19, 1.17, 1.16, 1.17, 1.18, 1.19, 1.23, 1.19, 1.16, 1.19, 1.2, 1.17, 1.13, 1.22, 1.19, 1.21, 1.2, 1.19, 1.17, 1.19, 1.22, 1.19, 1.18, 1.11, 1.19, 1.19, 1.17, 1.19, 1.17, 1.2, 1.16, 1.19, 1.2, 1.2, 1.17, 1.25, 1.16, 1.16, 1.2, 1.2, 1.16, 1.18, 1.21, 1.2, 1.22, 1.19, 1.14, 1.19, 1.17, 1.2, 1.16, 1.15, 1.2, 1.12, 1.11, 1.18]\n"
     ]
    }
   ],
   "source": [
    "print(numeros) # Comprobación de datos."
   ]
  },
  {
   "cell_type": "markdown",
   "metadata": {},
   "source": [
    "## Cálculo de las medidas."
   ]
  },
  {
   "cell_type": "markdown",
   "metadata": {},
   "source": [
    "### 1. Medidas de tendencia central."
   ]
  },
  {
   "cell_type": "markdown",
   "metadata": {},
   "source": [
    "#### 1.1. Cálculo de la media muestral.\n",
    "Como se dice en el enunciado, tomamos como media muestral la media poblacional."
   ]
  },
  {
   "cell_type": "code",
   "execution_count": 8,
   "metadata": {},
   "outputs": [
    {
     "name": "stdout",
     "output_type": "stream",
     "text": [
      "La media de los datos es: 1.1786\n"
     ]
    }
   ],
   "source": [
    "media = np.mean(numeros)\n",
    "print(\"La media de los datos es:\", round(media, 4))"
   ]
  },
  {
   "cell_type": "markdown",
   "metadata": {},
   "source": [
    "#### 1.2. Cálculo de la mediana junto a los cuartiles.\n",
    "La mediana equivale al cuartil 2."
   ]
  },
  {
   "cell_type": "code",
   "execution_count": 9,
   "metadata": {},
   "outputs": [
    {
     "name": "stdout",
     "output_type": "stream",
     "text": [
      "Primer cuartil (Q1): 1.16\n",
      "Mediana (Q2): 1.18\n",
      "Tercer cuartil (Q3): 1.2\n"
     ]
    }
   ],
   "source": [
    "q1 = np.percentile(numeros, 25) # Primer cuartil\n",
    "mediana = np.median(numeros) # Segundo cuartil = mediana\n",
    "q3 = np.percentile(numeros, 75) # Tercer cuartil\n",
    "\n",
    "print(\"Primer cuartil (Q1):\", round(q1,4))\n",
    "print(\"Mediana (Q2):\", round(mediana,4))\n",
    "print(\"Tercer cuartil (Q3):\", round(q3,4))"
   ]
  },
  {
   "cell_type": "markdown",
   "metadata": {},
   "source": [
    "#### 1.3. Cálculo modal."
   ]
  },
  {
   "cell_type": "code",
   "execution_count": 10,
   "metadata": {},
   "outputs": [
    {
     "name": "stdout",
     "output_type": "stream",
     "text": [
      "La moda de los datos es: 1.17\n"
     ]
    }
   ],
   "source": [
    "moda = mode(numeros)\n",
    "print(\"La moda de los datos es:\", moda)"
   ]
  },
  {
   "cell_type": "markdown",
   "metadata": {},
   "source": [
    "### 2. Medidas de dispersión."
   ]
  },
  {
   "cell_type": "markdown",
   "metadata": {},
   "source": [
    "#### 2.1. Cálculo de la desviación estándar muestral.\n",
    "Al ser una muestra superior de 30, decimos que la desviación estándar muestral es similar a la cuasidesviación."
   ]
  },
  {
   "cell_type": "code",
   "execution_count": 11,
   "metadata": {},
   "outputs": [
    {
     "name": "stdout",
     "output_type": "stream",
     "text": [
      "La desviación estándar muestral es: 0.027\n"
     ]
    }
   ],
   "source": [
    "desv_estandar_m = np.std(numeros, ddof=1)\n",
    "\n",
    "print(\"La desviación estándar muestral es:\", round(desv_estandar_m, 4))"
   ]
  },
  {
   "cell_type": "markdown",
   "metadata": {},
   "source": [
    "#### 2.2. Coeficiente de variación.\n",
    "El coeficiente de variación se trata de la división en porcentaje de la desviación estándar poblacional entre la media."
   ]
  },
  {
   "cell_type": "code",
   "execution_count": 12,
   "metadata": {},
   "outputs": [
    {
     "name": "stdout",
     "output_type": "stream",
     "text": [
      "El coeficiente de variación es: 2.2775\n"
     ]
    }
   ],
   "source": [
    "desv_estandar_p = np.std(numeros) # Desviación estándar poblacional\n",
    "\n",
    "coeficiente_variacion = (desv_estandar_p / media) * 100\n",
    "print(\"El coeficiente de variación es:\", round(coeficiente_variacion, 4))"
   ]
  },
  {
   "cell_type": "markdown",
   "metadata": {},
   "source": [
    "### 3. Medidas de forma."
   ]
  },
  {
   "cell_type": "markdown",
   "metadata": {},
   "source": [
    "#### 3.1. Sesgo.\n",
    "Se trata de un indicador de la asimetría de la distribución. Si se obtiene un sesgo negativo se trata de una distribución asimétrica negativa, es decir que hay más concentración de datos al final de la distribución. En caso de ser positiva es asimétrica positiva, habiendo más concentración de datos al principio. En cambio, si resulta cero, es totalmente simétrica."
   ]
  },
  {
   "cell_type": "code",
   "execution_count": 13,
   "metadata": {},
   "outputs": [
    {
     "name": "stdout",
     "output_type": "stream",
     "text": [
      "Sesgo estandarizado: -0.011252266273367712\n"
     ]
    }
   ],
   "source": [
    "sesgo_estandarizado = skew(numeros)\n",
    "print(\"Sesgo estandarizado:\", sesgo_estandarizado)"
   ]
  },
  {
   "cell_type": "markdown",
   "metadata": {},
   "source": [
    "#### 3.2. Curtosis.\n",
    "Describe el grado de concentración de los datos alrededor de la media. En caso de ser positiva tendríamos una distribución leptocúrtica, es decir, mas espigada/apuntada alrededor del valor central. En caso de ser negativa, sería mas aplanada, llamandola distribución platicúrtica. Si esta es cero, se trata de una distribución mesocúrtica, similar a una normal."
   ]
  },
  {
   "cell_type": "code",
   "execution_count": 14,
   "metadata": {},
   "outputs": [
    {
     "name": "stdout",
     "output_type": "stream",
     "text": [
      "Curtosis estandarizada: 0.11871812742281751\n"
     ]
    }
   ],
   "source": [
    "curtosis_estandarizada = kurtosis(numeros)\n",
    "print(\"Curtosis estandarizada:\", curtosis_estandarizada)"
   ]
  },
  {
   "cell_type": "markdown",
   "metadata": {},
   "source": [
    "### 4. Gráficos estadísticos.\n",
    "Todos los gráficos generados, se guardarán en la carpeta `graphs`."
   ]
  },
  {
   "cell_type": "markdown",
   "metadata": {},
   "source": [
    "#### 4.1. Histograma de frecuencias utilizando la regla de Strugles."
   ]
  },
  {
   "cell_type": "markdown",
   "metadata": {},
   "source": [
    "Primero mediante la regla de Strugles determinamos el número apropiado de clases/intervalos (k) que debemos de construir en el histograma. La formula es:\n",
    "\n",
    "$$ k = 1 + \\log_2(n) $$"
   ]
  },
  {
   "cell_type": "code",
   "execution_count": 15,
   "metadata": {},
   "outputs": [
    {
     "name": "stdout",
     "output_type": "stream",
     "text": [
      "Número de clases (k) según la regla de Sturges: 8\n"
     ]
    }
   ],
   "source": [
    "n = len(numeros) # Tamaño de la muestra.\n",
    "k = 1 + math.log2(n)\n",
    "k = round(k) # Aproximación al entero más cercano.\n",
    "print(f\"Número de clases (k) según la regla de Sturges: {k}\")"
   ]
  },
  {
   "cell_type": "code",
   "execution_count": 16,
   "metadata": {},
   "outputs": [
    {
     "data": {
      "image/png": "[encoded data removed]",
      "text/plain": [
       "<Figure size 640x480 with 1 Axes>"
      ]
     },
     "metadata": {},
     "output_type": "display_data"
    }
   ],
   "source": [
    "plt.hist(numeros, bins=k)\n",
    "\n",
    "plt.title(\"Histograma de Grosor de Discos\")\n",
    "plt.xlabel(\"Grosor\")\n",
    "plt.ylabel(\"Frecuencia\")\n",
    "\n",
    "plt.savefig('graphs/histograma.png')\n",
    "plt.show()"
   ]
  },
  {
   "cell_type": "markdown",
   "metadata": {},
   "source": [
    "#### 4.2. Diagrama de cajas."
   ]
  },
  {
   "cell_type": "code",
   "execution_count": 17,
   "metadata": {},
   "outputs": [
    {
     "data": {
      "image/png": "[encoded data removed]",
      "text/plain": [
       "<Figure size 640x480 with 1 Axes>"
      ]
     },
     "metadata": {},
     "output_type": "display_data"
    }
   ],
   "source": [
    "plt.boxplot(numeros)\n",
    "\n",
    "plt.title(\"Diagrama de Caja - Grosor de los Discos\")\n",
    "plt.ylabel(\"Grosor (mm)\")\n",
    "\n",
    "plt.savefig('graphs/diagrama-de-caja.png')\n",
    "plt.show()"
   ]
  },
  {
   "cell_type": "markdown",
   "metadata": {},
   "source": [
    "### 5. Índices de capacidad del proceso."
   ]
  },
  {
   "cell_type": "markdown",
   "metadata": {},
   "source": [
    "Evalúan la capacidad de un proceso para cumplir con los límites de especificación, considerando la variabilidad del proceso."
   ]
  },
  {
   "cell_type": "code",
   "execution_count": 18,
   "metadata": {},
   "outputs": [],
   "source": [
    "# Especificaciones del problema.\n",
    "ES = 1.30\n",
    "EI = 1.10\n",
    "# Valor nominal.\n",
    "N = 1.20"
   ]
  },
  {
   "cell_type": "markdown",
   "metadata": {},
   "source": [
    "#### 5.1. Índice de capacidad potencial del proceso. $C_{p}$.\n",
    "Lo deseable es que los procesos tengan un índice $C_{p}$ superior a 1 indicando que es capaz de cumplir con las especificaciones y es más robusto. <br>\n",
    "Para la resolución de este tomamos como desviación estándar del proceso, la desviación estandar muestral, ya que estamos evaluando la capacidad del proceso basándonos en una muestra de datos y queremos entender cómo esa muestra se desvía de los límites de especificación."
   ]
  },
  {
   "cell_type": "code",
   "execution_count": 19,
   "metadata": {},
   "outputs": [
    {
     "name": "stdout",
     "output_type": "stream",
     "text": [
      "El Cp es: 1.2368\n"
     ]
    }
   ],
   "source": [
    "cp = (ES - EI) / (6*desv_estandar_m)\n",
    "print(\"El Cp es:\", round(cp, 4))"
   ]
  },
  {
   "cell_type": "markdown",
   "metadata": {},
   "source": [
    "#### 5.2. Índice de capacidad para la especificación inferior. $C_{pi}$."
   ]
  },
  {
   "cell_type": "code",
   "execution_count": 20,
   "metadata": {},
   "outputs": [
    {
     "name": "stdout",
     "output_type": "stream",
     "text": [
      "El Cpi es: 0.9726\n"
     ]
    }
   ],
   "source": [
    "cpi = (media - EI) / (3*desv_estandar_m)\n",
    "print(\"El Cpi es:\", round(cpi, 4))"
   ]
  },
  {
   "cell_type": "markdown",
   "metadata": {},
   "source": [
    "#### 5.3. Índice de de capacidad para la especificación superior. $C_{ps}$."
   ]
  },
  {
   "cell_type": "code",
   "execution_count": 21,
   "metadata": {},
   "outputs": [
    {
     "name": "stdout",
     "output_type": "stream",
     "text": [
      "El Cps es: 1.501\n"
     ]
    }
   ],
   "source": [
    "cps = (ES - media) / (3*desv_estandar_m)\n",
    "print(\"El Cps es:\", round(cps, 4))"
   ]
  },
  {
   "cell_type": "markdown",
   "metadata": {},
   "source": [
    "Evaluación de resultados $C_{ps}$ y $C_{pi}$:\n",
    "- Si ambos son altos, es decir, cercanos a 1 o superiores. Indican que el proceso tiene capacidad para mantenerse dentro de los límites correspondientes.\n",
    "- Si son bajos, es decir, menores a 1. Indican que el proceso puede tener dificultades para mantenerse dentro de los límites correspondientes."
   ]
  },
  {
   "cell_type": "markdown",
   "metadata": {},
   "source": [
    "#### 5.4. Índice de capacidad real del proceso. $C_{pk}$.\n",
    "Lo óptimo es que sea superior a 1, indicando así que el proceso produce piezas que cumplen con las especificaciones, con un margen adicional para la variabilidad. En caso de ser justamente 1, significa que puede producir piezas que llegan justo a los límites de especificación. Y si es menor, significa que el proceso tiene dificultades para cumplir con las especificaciones; hay una considerable cantidad de piezas que no cumplen con los límites."
   ]
  },
  {
   "cell_type": "code",
   "execution_count": 22,
   "metadata": {},
   "outputs": [
    {
     "name": "stdout",
     "output_type": "stream",
     "text": [
      "El Cpk es: 0.9726\n"
     ]
    }
   ],
   "source": [
    "cpk = min(cpi, cps)\n",
    "print(\"El Cpk es:\", round(cpk, 4))"
   ]
  },
  {
   "cell_type": "markdown",
   "metadata": {},
   "source": [
    "#### 5.5. Índice de centrado del proceso. *K*."
   ]
  },
  {
   "cell_type": "code",
   "execution_count": 23,
   "metadata": {},
   "outputs": [
    {
     "name": "stdout",
     "output_type": "stream",
     "text": [
      "El valor de k es: -0.2642\n"
     ]
    }
   ],
   "source": [
    "k = (media - N) / (3*desv_estandar_m)\n",
    "print(\"El valor de k es:\", round(k, 4))"
   ]
  }
 ],
 "metadata": {
  "kernelspec": {
   "display_name": "base",
   "language": "python",
   "name": "python3"
  },
  "language_info": {
   "codemirror_mode": {
    "name": "ipython",
    "version": 3
   },
   "file_extension": ".py",
   "mimetype": "text/x-python",
   "name": "python",
   "nbconvert_exporter": "python",
   "pygments_lexer": "ipython3",
   "version": "3.10.7"
  }
 },
 "nbformat": 4,
 "nbformat_minor": 2
}
